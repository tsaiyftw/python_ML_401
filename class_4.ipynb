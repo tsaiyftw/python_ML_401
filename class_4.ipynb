{
  "nbformat": 4,
  "nbformat_minor": 0,
  "metadata": {
    "colab": {
      "name": "class_4.ipynb",
      "provenance": [],
      "collapsed_sections": [],
      "authorship_tag": "ABX9TyMMYh/P8damLdW9Q4XDXCac",
      "include_colab_link": true
    },
    "kernelspec": {
      "name": "python3",
      "display_name": "Python 3"
    },
    "language_info": {
      "name": "python"
    }
  },
  "cells": [
    {
      "cell_type": "markdown",
      "metadata": {
        "id": "view-in-github",
        "colab_type": "text"
      },
      "source": [
        "<a href=\"https://colab.research.google.com/github/tsaiyftw/python_ML_401/blob/main/class_4.ipynb\" target=\"_parent\"><img src=\"https://colab.research.google.com/assets/colab-badge.svg\" alt=\"Open In Colab\"/></a>"
      ]
    },
    {
      "cell_type": "code",
      "execution_count": 65,
      "metadata": {
        "id": "hsqa32EigklC"
      },
      "outputs": [],
      "source": [
        "class Person:\n",
        "  # constructor \n",
        "  \n",
        "  def __init__(self,name,gender):\n",
        "    self.n = name\n",
        "    self.g= gender\n",
        "    print(\"This is a person class\")\n",
        "  # instance method \n",
        "  def introduction(self):\n",
        "    print(f\"I am {self.n}\")"
      ]
    },
    {
      "cell_type": "code",
      "source": [
        "p1 = Person(\"Yifang\", \"female\")\n",
        "p2 = Person(\"JJ\", \"male\")"
      ],
      "metadata": {
        "colab": {
          "base_uri": "https://localhost:8080/"
        },
        "id": "X3ITeh9giAWK",
        "outputId": "c852dd61-9eb9-4050-92ec-31c43199cbe3"
      },
      "execution_count": 17,
      "outputs": [
        {
          "output_type": "stream",
          "name": "stdout",
          "text": [
            "This is a person class\n",
            "This is a person class\n"
          ]
        }
      ]
    },
    {
      "cell_type": "code",
      "source": [
        "print(p1.n,p1.g)\n",
        "print(p2.g,p2.n)"
      ],
      "metadata": {
        "colab": {
          "base_uri": "https://localhost:8080/"
        },
        "id": "L-5XsNRXjuTa",
        "outputId": "fd4f7b49-ce9f-4b33-c583-08ed131a5860"
      },
      "execution_count": 15,
      "outputs": [
        {
          "output_type": "stream",
          "name": "stdout",
          "text": [
            "Yifang female\n",
            "male JJ\n"
          ]
        }
      ]
    },
    {
      "cell_type": "code",
      "source": [
        "p1.introduction()\n",
        "p2.introduction()"
      ],
      "metadata": {
        "colab": {
          "base_uri": "https://localhost:8080/"
        },
        "id": "0e-HhstBlPgf",
        "outputId": "a9220644-f2ba-495a-9029-7de100a9ec15"
      },
      "execution_count": 19,
      "outputs": [
        {
          "output_type": "stream",
          "name": "stdout",
          "text": [
            "I am Yifang\n",
            "I am JJ\n"
          ]
        }
      ]
    },
    {
      "cell_type": "code",
      "source": [
        "class Worrior:\n",
        "  # define object's properties( or fields, or attributes)\n",
        "  def __init__(self, name, gender, weapon = \"bat\"):\n",
        "    self.lv = 1\n",
        "    self.exp =0\n",
        "    self.n = name\n",
        "    self.g = gender\n",
        "    self.w = weapon\n",
        "    print(\"This is the worrior class\")\n",
        "  # show the obbject properties instead of \" __main__ at address to the address\"\n",
        "  def __str__(self):\n",
        "    return f\"Name:{self.n}, Level:{self.lv}, Experience:{self.exp},  Gender:{self.g}, Weapon:{self.w}\"\n",
        "  def introduction(self):\n",
        "    return f\"I am {self.n} and my weapon is {self.w}\"\n",
        "  def attack(self, enemy):\n",
        "    self.exp += 50\n",
        "    self.level_up()\n",
        "    enemy.hp -=1\n",
        "    return f\"{self.n} attacking! now exp is {self.exp} and level is {self.lv}\"\n",
        "  def level_up(self):\n",
        "    if self.exp >= 100:\n",
        "      self.lv += 1\n",
        "      self.exp -=100\n",
        "      print(f\"{self.n} Level UP!!!\")\n",
        "\n",
        "class Enemy:\n",
        "  def __init__(self):\n",
        "    self.n = \"Moster\"\n",
        "    self.hp = 100\n",
        "    print(\"This is the Enemy class\")"
      ],
      "metadata": {
        "id": "QlKGIMwvmYm1"
      },
      "execution_count": 10,
      "outputs": []
    },
    {
      "cell_type": "code",
      "source": [
        "w1 = Worrior( name =\"JJ\", weapon=\"sword\", gender=\"M\")\n",
        "print(w1)\n",
        "w2 =Worrior(name=\"KK\", gender=\"F\", weapon=\"longbow\")\n",
        "print(w2.introduction())\n",
        "\n",
        "e= Enemy()\n"
      ],
      "metadata": {
        "colab": {
          "base_uri": "https://localhost:8080/"
        },
        "id": "MZmObApCm1VN",
        "outputId": "47aa3d05-117f-4e5d-9b08-dd49155d51ff"
      },
      "execution_count": 11,
      "outputs": [
        {
          "output_type": "stream",
          "name": "stdout",
          "text": [
            "This is the worrior class\n",
            "Name:JJ, Level:1, Experience:0,  Gender:M, Weapon:sword\n",
            "This is the worrior class\n",
            "I am KK and my weapon is longbow\n",
            "This is the Enemy class\n"
          ]
        }
      ]
    },
    {
      "cell_type": "code",
      "source": [
        "for i in range(5):\n",
        "  print(w1.attack(e))\n",
        "e.hp"
      ],
      "metadata": {
        "colab": {
          "base_uri": "https://localhost:8080/"
        },
        "id": "QqC4rZegsmmf",
        "outputId": "3cb95ed9-59dd-44bc-bb10-c57c667d7fea"
      },
      "execution_count": 18,
      "outputs": [
        {
          "output_type": "stream",
          "name": "stdout",
          "text": [
            "JJ attacking! now exp is 50 and level is 16\n",
            "JJ Level UP!!!\n",
            "JJ attacking! now exp is 0 and level is 17\n",
            "JJ attacking! now exp is 50 and level is 17\n",
            "JJ Level UP!!!\n",
            "JJ attacking! now exp is 0 and level is 18\n",
            "JJ attacking! now exp is 50 and level is 18\n"
          ]
        },
        {
          "output_type": "execute_result",
          "data": {
            "text/plain": [
              "65"
            ]
          },
          "metadata": {},
          "execution_count": 18
        }
      ]
    },
    {
      "cell_type": "code",
      "source": [
        "class Charactor:\n",
        "  def __init__(self,name, gender, weapon=\"bat\"):\n",
        "    self.lv = 1\n",
        "    self.exp = 0\n",
        "    self.n = name\n",
        "    self.g = gender\n",
        "    self.w = weapon\n",
        "    print(\"This is the Charactor class\")\n",
        "  def __str__(self):\n",
        "    return f\"Name:{self.n}, Gender: {self.g}, Weapon:{self.w}, Level:{self.lv}, Exp:{self.exp}\"\n",
        "  def attack(self, enemy):\n",
        "    self.exp += 50\n",
        "    self.level_up()\n",
        "    enemy.hp -=1\n",
        "    return f\"{self.n} attacking! now exp is {self.exp} and level is {self.lv}\"\n",
        "  def level_up(self):\n",
        "    if self.exp >= 100:\n",
        "      self.lv += 1\n",
        "      self.exp -=100\n",
        "      print(f\"{self.n} Level UP!!!\")\n",
        "\n",
        "class Enemy:\n",
        "  def __init__(self):\n",
        "    self.n = \"Moster\"\n",
        "    self.hp = 100\n",
        "    print(\"This is the Enemy class\")\n",
        "\n",
        "class Worrior(Charactor):\n",
        "  def __init__(self,name_n, gender_n, weapon_n):\n",
        "    super().__init__(name_n, gender_n, weapon_n)\n",
        "    self.sp = 100\n",
        "    print(\"This is the worrior class\")\n",
        "  def attack(self,enemy):\n",
        "    super().attack(enemy)\n",
        "    return f\"Adding something else to super class method\"\n",
        "\n",
        "class Masician(Charactor):\n",
        "  def __init__(self,name, gender, weapon):\n",
        "    super().__init__(name,gender, weapon)\n",
        "    self.mp = 100\n",
        "    print(\"This is the masician class\")"
      ],
      "metadata": {
        "id": "EcXaRpRK0jHk"
      },
      "execution_count": 75,
      "outputs": []
    },
    {
      "cell_type": "code",
      "source": [
        "w1 = Worrior(name_n = \"RR\", gender_n = \"F\", weapon_n =\"stone\")\n",
        "m1 = Masician(name = \"LL\", gender = \"M\", weapon =\"Flying\")"
      ],
      "metadata": {
        "colab": {
          "base_uri": "https://localhost:8080/"
        },
        "id": "a8uEnbKO1UHZ",
        "outputId": "90fff3af-b69a-4914-c876-8ff2cf250018"
      },
      "execution_count": 71,
      "outputs": [
        {
          "output_type": "stream",
          "name": "stdout",
          "text": [
            "This is the Charactor class\n",
            "This is the worrior class\n",
            "This is the Charactor class\n",
            "This is the masician class\n"
          ]
        }
      ]
    },
    {
      "cell_type": "code",
      "source": [
        "print(m1)\n",
        "print(w1)"
      ],
      "metadata": {
        "colab": {
          "base_uri": "https://localhost:8080/"
        },
        "id": "oiLRby7F3ffa",
        "outputId": "cc6c93c5-d19f-410d-dd8f-4b602d4d0b98"
      },
      "execution_count": 72,
      "outputs": [
        {
          "output_type": "stream",
          "name": "stdout",
          "text": [
            "Name:LL, Gender: M, Weapon:Flying, Level:1, Exp:0\n",
            "Name:RR, Gender: F, Weapon:stone, Level:1, Exp:0\n"
          ]
        }
      ]
    },
    {
      "cell_type": "code",
      "source": [
        "e = Enemy()"
      ],
      "metadata": {
        "colab": {
          "base_uri": "https://localhost:8080/"
        },
        "id": "YES2bEEI3lSN",
        "outputId": "a02f57d6-44f8-4c96-c3a9-8400104a5eae"
      },
      "execution_count": 73,
      "outputs": [
        {
          "output_type": "stream",
          "name": "stdout",
          "text": [
            "This is the Enemy class\n"
          ]
        }
      ]
    },
    {
      "cell_type": "code",
      "source": [
        "for i in range(5):\n",
        "  print(w1.attack(e))"
      ],
      "metadata": {
        "colab": {
          "base_uri": "https://localhost:8080/"
        },
        "id": "3rNHSgz13sDA",
        "outputId": "40e5fdfd-d826-4270-fd2a-4ca1df47821b"
      },
      "execution_count": 74,
      "outputs": [
        {
          "output_type": "stream",
          "name": "stdout",
          "text": [
            "Adding something else to super class method\n",
            "RR Level UP!!!\n",
            "Adding something else to super class method\n",
            "Adding something else to super class method\n",
            "RR Level UP!!!\n",
            "Adding something else to super class method\n",
            "Adding something else to super class method\n"
          ]
        }
      ]
    },
    {
      "cell_type": "code",
      "source": [
        "import numpy as np\n",
        "\n",
        "# a = [1,2,3]\n",
        "# b = [4,5,6]\n",
        "\n",
        "# arr_a = np.array(a)\n",
        "# arr_b = np.array(b)\n",
        "\n",
        "# print(arr_a+ arr_b)"
      ],
      "metadata": {
        "id": "NY75PfwL-8QV"
      },
      "execution_count": 2,
      "outputs": []
    },
    {
      "cell_type": "code",
      "source": [
        "a = np.array([1,2,3])\n",
        "b = np.array([[1.0,2.0,3.0],[3.2,5.7,8.2]])\n",
        "print(f\"a: {a}\")\n",
        "print(f\"a dimension: {a.ndim}\")\n",
        "print(f\"a shape: {a.shape}\")\n",
        "print(f\"a type: {a.dtype}\")\n",
        "print(f\"b: {b}\")\n",
        "print(f\"b dimension: {b.ndim}\")\n",
        "print(f\"b shape: {b.shape}\")\n",
        "print(f\"b type: {b.dtype}\")"
      ],
      "metadata": {
        "colab": {
          "base_uri": "https://localhost:8080/"
        },
        "id": "Ii6Hw29c_8c9",
        "outputId": "1101c2fd-83ed-465e-e9d6-4fb2b553ad97"
      },
      "execution_count": 79,
      "outputs": [
        {
          "output_type": "stream",
          "name": "stdout",
          "text": [
            "a: [1 2 3]\n",
            "a dimension: 1\n",
            "a shape: (3,)\n",
            "a type: int64\n",
            "b: [[1.  2.  3. ]\n",
            " [3.2 5.7 8.2]]\n",
            "b dimension: 2\n",
            "b shape: (2, 3)\n",
            "b type: float64\n"
          ]
        }
      ]
    },
    {
      "cell_type": "code",
      "source": [
        "a = np.array([[1,2,3,4,5,6],[7,8,9,10,11,12]])\n",
        "print(a[0,]) # 6\n",
        "print(a[1,:]) # [7,8,9,10,11,12]\n",
        "print(a[:,4]) # [5,11]\n",
        "print(a[1,2:6:2]) # [9,11] (start,stop,step)\n",
        "a[1,2] = 20\n",
        "print(a)\n",
        "a[:,2] = [7,8]\n",
        "print(a)"
      ],
      "metadata": {
        "colab": {
          "base_uri": "https://localhost:8080/"
        },
        "id": "8tc_VWj-CjEy",
        "outputId": "268bb510-e697-4422-a584-7225e894283a"
      },
      "execution_count": 80,
      "outputs": [
        {
          "output_type": "stream",
          "name": "stdout",
          "text": [
            "[1 2 3 4 5 6]\n",
            "[ 7  8  9 10 11 12]\n",
            "[ 5 11]\n",
            "[ 9 11]\n",
            "[[ 1  2  3  4  5  6]\n",
            " [ 7  8 20 10 11 12]]\n",
            "[[ 1  2  7  4  5  6]\n",
            " [ 7  8  8 10 11 12]]\n"
          ]
        }
      ]
    },
    {
      "cell_type": "code",
      "source": [
        "a = np.array([[92,83,56,77,98],[81,53,64,76,60]])\n",
        "print(a)\n",
        "print(np.max(a,axis=0))\n",
        "print(np.max(a,axis=1))\n",
        "print(np.sum(a,axis=0))\n",
        "print(np.sum(a,axis=1))"
      ],
      "metadata": {
        "colab": {
          "base_uri": "https://localhost:8080/"
        },
        "id": "zMxoOjXTG4u4",
        "outputId": "3dbf393f-be1c-4626-865b-c59c4f15d4a8"
      },
      "execution_count": 3,
      "outputs": [
        {
          "output_type": "stream",
          "name": "stdout",
          "text": [
            "[[92 83 56 77 98]\n",
            " [81 53 64 76 60]]\n",
            "[92 83 64 77 98]\n",
            "[98 81]\n",
            "[173 136 120 153 158]\n",
            "[406 334]\n"
          ]
        }
      ]
    }
  ]
}